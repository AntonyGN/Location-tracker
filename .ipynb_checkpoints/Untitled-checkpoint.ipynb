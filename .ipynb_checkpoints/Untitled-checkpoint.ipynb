{
 "cells": [
  {
   "cell_type": "code",
   "execution_count": 2,
   "id": "98ab1685",
   "metadata": {},
   "outputs": [
    {
     "name": "stdout",
     "output_type": "stream",
     "text": [
      "Collecting phone-iso3166\n",
      "  Downloading phone_iso3166-0.4.1-py3-none-any.whl (45 kB)\n",
      "\u001b[2K     \u001b[90m━━━━━━━━━━━━━━━━━━━━━━━━━━━━━━━━━━━━━━━\u001b[0m \u001b[32m45.6/45.6 kB\u001b[0m \u001b[31m563.7 kB/s\u001b[0m eta \u001b[36m0:00:00\u001b[0m \u001b[36m0:00:01\u001b[0m\n",
      "\u001b[?25hInstalling collected packages: phone-iso3166\n",
      "Successfully installed phone-iso3166-0.4.1\n",
      "Note: you may need to restart the kernel to use updated packages.\n"
     ]
    }
   ],
   "source": [
    "pip install phone-iso3166\n"
   ]
  },
  {
   "cell_type": "code",
   "execution_count": 5,
   "id": "a2aacd47",
   "metadata": {},
   "outputs": [
    {
     "name": "stdout",
     "output_type": "stream",
     "text": [
      "Collecting pycountry\n",
      "  Downloading pycountry-22.3.5.tar.gz (10.1 MB)\n",
      "\u001b[2K     \u001b[90m━━━━━━━━━━━━━━━━━━━━━━━━━━━━━━━━━━━━━━━\u001b[0m \u001b[32m10.1/10.1 MB\u001b[0m \u001b[31m218.9 kB/s\u001b[0m eta \u001b[36m0:00:00\u001b[0m00:01\u001b[0m00:02\u001b[0m\n",
      "\u001b[?25h  Installing build dependencies ... \u001b[?25ldone\n",
      "\u001b[?25h  Getting requirements to build wheel ... \u001b[?25ldone\n",
      "\u001b[?25h  Preparing metadata (pyproject.toml) ... \u001b[?25ldone\n",
      "\u001b[?25hRequirement already satisfied: setuptools in /opt/anaconda3/lib/python3.9/site-packages (from pycountry) (63.4.1)\n",
      "Building wheels for collected packages: pycountry\n",
      "  Building wheel for pycountry (pyproject.toml) ... \u001b[?25ldone\n",
      "\u001b[?25h  Created wheel for pycountry: filename=pycountry-22.3.5-py2.py3-none-any.whl size=10681832 sha256=84dbaef353a2f335deeca696d05a86ac06081bb50bfffaf6a217c076f720078b\n",
      "  Stored in directory: /Users/antony/Library/Caches/pip/wheels/47/15/92/e6dc85fcb0686c82e1edbcfdf80cfe4808c058813fed0baa8f\n",
      "Successfully built pycountry\n",
      "Installing collected packages: pycountry\n",
      "Successfully installed pycountry-22.3.5\n",
      "Note: you may need to restart the kernel to use updated packages.\n"
     ]
    }
   ],
   "source": [
    "pip install pycountry"
   ]
  },
  {
   "cell_type": "code",
   "execution_count": 6,
   "id": "975acb5a",
   "metadata": {},
   "outputs": [
    {
     "name": "stdout",
     "output_type": "stream",
     "text": [
      "Collecting phonenumbers\n",
      "  Downloading phonenumbers-8.13.8-py2.py3-none-any.whl (2.6 MB)\n",
      "\u001b[2K     \u001b[90m━━━━━━━━━━━━━━━━━━━━━━━━━━━━━━━━━━━━━━━━\u001b[0m \u001b[32m2.6/2.6 MB\u001b[0m \u001b[31m258.0 kB/s\u001b[0m eta \u001b[36m0:00:00\u001b[0m00:01\u001b[0m00:01\u001b[0m\n",
      "\u001b[?25hInstalling collected packages: phonenumbers\n",
      "Successfully installed phonenumbers-8.13.8\n",
      "Note: you may need to restart the kernel to use updated packages.\n"
     ]
    }
   ],
   "source": [
    "pip install phonenumbers"
   ]
  },
  {
   "cell_type": "code",
   "execution_count": 5,
   "id": "6416cfb3",
   "metadata": {},
   "outputs": [],
   "source": [
    "#import libraries\n",
    "import json \n",
    "import pycountry\n",
    "from tkinter import Tk, Label, Button, Entry\n",
    "from phone_iso3166.country import phone_country"
   ]
  },
  {
   "cell_type": "code",
   "execution_count": 6,
   "id": "6a47cbe3",
   "metadata": {},
   "outputs": [],
   "source": [
    "class Location_Tracker:\n",
    "    def __init__(self, App):\n",
    "        self.window = App\n",
    "        self.window.title(\"Phone number Tracker\")\n",
    "        self.window.geometry(\"500x400\")\n",
    "        self.window.configure(bg=\"#3f5efb\")\n",
    "        self.window.resizable(False, False)\n",
    "\n",
    "        #Application menu\n",
    "        Label(App, text=\"Enter a phone number\",fg=\"white\", font=(\"Times\", 20), bg=\"#3f5efb\").place(x=150,y= 30)\n",
    "        self.phone_number = Entry(App, width=16, font=(\"Arial\", 15), relief=\"flat\")\n",
    "        self.track_button = Button(App, text=\"Track Country\", bg=\"#22c1c3\", relief=\"sunken\")\n",
    "        self.country_label = Label(App,fg=\"white\", font=(\"Times\", 20), bg=\"#3f5efb\")\n",
    "\n",
    "        #Place widgets on the window\n",
    "        self.phone_number.place(x=170, y=120)\n",
    "        self.track_button.place(x=200, y=200)\n",
    "        self.country_label.place(x=100, y=280)\n",
    "\n",
    "        #Linking button with countries\n",
    "        self.track_button.bind(\"<Button-1>\", self.Track_location)\n",
    "        #255757294146\n",
    "    \n",
    "    def Track_location(self,event):\n",
    "        phone_number = self.phone_number.get()\n",
    "        country = \"Country is Unknown\"\n",
    "        if phone_number:\n",
    "            tracked = pycountry.countries.get(alpha_2=phone_country(phone_number))\n",
    "            print(tracked)\n",
    "            if tracked:\n",
    "                    if hasattr(tracked, \"official_name\"):\n",
    "                        country = tracked.official_name\n",
    "                    else:\n",
    "                        country = tracked.name\n",
    "        self.country_label.configure(text=country)"
   ]
  },
  {
   "cell_type": "code",
   "execution_count": 7,
   "id": "93e8037a",
   "metadata": {},
   "outputs": [
    {
     "name": "stdout",
     "output_type": "stream",
     "text": [
      "Country(alpha_2='KE', alpha_3='KEN', flag='🇰🇪', name='Kenya', numeric='404', official_name='Republic of Kenya')\n"
     ]
    }
   ],
   "source": [
    "PhoneTracker = Tk()\n",
    "MyApp = Location_Tracker(PhoneTracker)\n",
    "PhoneTracker.mainloop()"
   ]
  },
  {
   "cell_type": "code",
   "execution_count": null,
   "id": "2f3ad685",
   "metadata": {},
   "outputs": [],
   "source": []
  }
 ],
 "metadata": {
  "kernelspec": {
   "display_name": "Python 3 (ipykernel)",
   "language": "python",
   "name": "python3"
  },
  "language_info": {
   "codemirror_mode": {
    "name": "ipython",
    "version": 3
   },
   "file_extension": ".py",
   "mimetype": "text/x-python",
   "name": "python",
   "nbconvert_exporter": "python",
   "pygments_lexer": "ipython3",
   "version": "3.9.13"
  }
 },
 "nbformat": 4,
 "nbformat_minor": 5
}
